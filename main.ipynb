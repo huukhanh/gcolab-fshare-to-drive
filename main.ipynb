# Connect google drive
from google.colab import drive
drive.mount( '/content/gdrive' )


import requests, json

def reupToGDrive (file_url):
  r = requests.get(file_url, stream = True)
  file_name = file_url.split('/')[-1].split('?')[0]
  with open("/content/gdrive/My Drive/Film/" + file_name,"wb") as file:
    print('Reuploading...')
    for block in r.iter_content(chunk_size = 1024):
      if block:
        file.write(block)
    print('Reupload done!')

def getURL (link_code, csrf, cookie):
  url = "https://www.fshare.vn/download/get"
  payload = '_csrf-app=' + csrf + '&linkcode=' + link_code + '&withFcode5=0'
  headers = {
    'cookie': cookie,
    'Content-Type': 'application/x-www-form-urlencoded'
  }
  response = requests.request("POST", url, headers=headers, data = payload)
  file_url = json.loads(response.text)['url']
  return file_url

# Main
link_code = '4Y92B5IS8E43SGK'
csrf = 'L10Twd0I4JUCRgbQ9naWuATUkBS7wCZcAdaHJzPgze4WB1GxhTqR1FMUTJefB_GPM5zyTtaZbyxqg8gXUtaZqA%3D%3D'
cookie = 'fshare-app=mvamg6tr0ahfnqsfod4s494q1p'
file_url = getURL(link_code, csrf, cookie)
reupToGDrive(file_url)
